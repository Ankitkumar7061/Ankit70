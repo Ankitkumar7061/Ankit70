{
 "cells": [
  {
   "cell_type": "code",
   "execution_count": 5,
   "id": "eb2f1864-5543-4d92-8bac-25fe1befd47f",
   "metadata": {},
   "outputs": [
    {
     "name": "stdout",
     "output_type": "stream",
     "text": [
      "1\n",
      "2\n",
      "3\n",
      "4\n"
     ]
    }
   ],
   "source": [
    "#Print nmber from 1 to 5 USIGing a while loop.\n",
    "n = 5\n",
    "i=1\n",
    "while i < n:\n",
    "    print(i)\n",
    "    i = i + 1\n"
   ]
  },
  {
   "cell_type": "code",
   "execution_count": 3,
   "id": "285795b8-612d-469f-b54a-23800989e69f",
   "metadata": {},
   "outputs": [
    {
     "name": "stdout",
     "output_type": "stream",
     "text": [
      "55\n"
     ]
    }
   ],
   "source": [
    "#2. Calclate the m of nmber from 1 to 10 ing a while loop.\n",
    "i = 1\n",
    "sum = 0\n",
    "while (i<=10):\n",
    "    sum+=i\n",
    "    i+=1\n",
    "print(sum)\n",
    "    "
   ]
  },
  {
   "cell_type": "code",
   "execution_count": 7,
   "id": "49c035e3-696e-42f1-a135-9638ef2f0e01",
   "metadata": {},
   "outputs": [
    {
     "name": "stdout",
     "output_type": "stream",
     "text": [
      "(1, 10)\n"
     ]
    }
   ],
   "source": [
    "#B Calclate the factorial of a number using a for loop.\n",
    "n = "
   ]
  },
  {
   "cell_type": "code",
   "execution_count": 4,
   "id": "2794baf3-c328-4ee6-a709-1db10ffbf845",
   "metadata": {},
   "outputs": [
    {
     "name": "stdout",
     "output_type": "stream",
     "text": [
      "xxxx\n",
      "xxx\n",
      "xx\n",
      "x\n"
     ]
    }
   ],
   "source": [
    "#c Print a pattern ing neted loop.\n",
    "for i in range (1,5):\n",
    "    for j in range(i,5):\n",
    "        print(\"x\",end = \"\")\n",
    "    print()"
   ]
  },
  {
   "cell_type": "code",
   "execution_count": 5,
   "id": "083a1a7d-10de-420a-9520-c49352ca6e20",
   "metadata": {},
   "outputs": [
    {
     "name": "stdout",
     "output_type": "stream",
     "text": [
      "1234\n",
      "234\n",
      "34\n",
      "4\n"
     ]
    }
   ],
   "source": [
    "for i in range (1,5):\n",
    "    for j in range(i,5):\n",
    "        print(j,end = \"\")\n",
    "    print()"
   ]
  },
  {
   "cell_type": "code",
   "execution_count": 9,
   "id": "a519516a-30ab-40fd-beaa-8a262839f97a",
   "metadata": {},
   "outputs": [
    {
     "name": "stdin",
     "output_type": "stream",
     "text": [
      "number enter 2\n"
     ]
    },
    {
     "name": "stdout",
     "output_type": "stream",
     "text": [
      "2 x i = 2\n",
      "2 x i = 4\n",
      "2 x i = 6\n",
      "2 x i = 8\n",
      "2 x i = 10\n",
      "2 x i = 12\n",
      "2 x i = 14\n",
      "2 x i = 16\n",
      "2 x i = 18\n",
      "2 x i = 20\n"
     ]
    }
   ],
   "source": [
    "#Generate a mltiplication table using neted loop.\n",
    "mul = int(input(\"number enter\"))\n",
    "for i in range(1,11):\n",
    "    print(mul,\"x\",\"i\",\"=\",mul * i)\n",
    "    "
   ]
  },
  {
   "cell_type": "code",
   "execution_count": 12,
   "id": "1cea0fc8-638a-44fc-96b0-7393d4a734f3",
   "metadata": {},
   "outputs": [
    {
     "name": "stdin",
     "output_type": "stream",
     "text": [
      "enter the number 5\n"
     ]
    },
    {
     "name": "stdout",
     "output_type": "stream",
     "text": [
      "5 x i = 5\n",
      "5 x i = 10\n",
      "5 x i = 15\n",
      "5 x i = 20\n",
      "5 x i = 25\n",
      "5 x i = 30\n",
      "5 x i = 35\n",
      "5 x i = 40\n",
      "5 x i = 45\n",
      "5 x i = 50\n"
     ]
    }
   ],
   "source": [
    "mul = int(input(\"enter the number\"))\n",
    "for i in range (1,11):\n",
    "          print(mul,\"x\",\"i\",\"=\",mul *i)\n",
    "          "
   ]
  },
  {
   "cell_type": "code",
   "execution_count": null,
   "id": "9b2d7b88-84b3-4df0-978b-41964b986afd",
   "metadata": {},
   "outputs": [],
   "source": [
    "#Cont the nmber of vowel in a tring ing a for loop.\n",
    "string = input(\"enter the vowel\")\n",
    "vowels = (\"a,e,i,o,u\")\n",
    "count = 0\n",
    "for char in string:\n",
    "    if char in vowels:\n",
    "        count += 1\n",
    "        print(f,\"the no of vowel\")"
   ]
  },
  {
   "cell_type": "code",
   "execution_count": null,
   "id": "c7b0a833-c13b-4ce0-a459-d813236395d1",
   "metadata": {},
   "outputs": [],
   "source": []
  }
 ],
 "metadata": {
  "kernelspec": {
   "display_name": "Python 3 (ipykernel)",
   "language": "python",
   "name": "python3"
  },
  "language_info": {
   "codemirror_mode": {
    "name": "ipython",
    "version": 3
   },
   "file_extension": ".py",
   "mimetype": "text/x-python",
   "name": "python",
   "nbconvert_exporter": "python",
   "pygments_lexer": "ipython3",
   "version": "3.10.8"
  }
 },
 "nbformat": 4,
 "nbformat_minor": 5
}
