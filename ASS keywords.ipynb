{
 "cells": [
  {
   "cell_type": "code",
   "execution_count": null,
   "id": "e3ef9ff9-6322-485f-8f6f-7853457bbfce",
   "metadata": {},
   "outputs": [],
   "source": [
    "#1.Explain the significance of Python keywords and provide examples of five keywords"
   ]
  },
  {
   "cell_type": "code",
   "execution_count": 2,
   "id": "802add78-b619-4d71-8dd8-198f3468cb52",
   "metadata": {},
   "outputs": [
    {
     "name": "stdout",
     "output_type": "stream",
     "text": [
      "\n",
      "Here is a list of the Python keywords.  Enter any keyword to get more help.\n",
      "\n",
      "False               class               from                or\n",
      "None                continue            global              pass\n",
      "True                def                 if                  raise\n",
      "and                 del                 import              return\n",
      "as                  elif                in                  try\n",
      "assert              else                is                  while\n",
      "async               except              lambda              with\n",
      "await               finally             nonlocal            yield\n",
      "break               for                 not                 \n",
      "\n"
     ]
    }
   ],
   "source": [
    "help ('keywords')"
   ]
  },
  {
   "cell_type": "code",
   "execution_count": 4,
   "id": "60dc0fbb-6d4e-45ea-9dab-ea3003823089",
   "metadata": {},
   "outputs": [
    {
     "data": {
      "text/plain": [
       "True"
      ]
     },
     "execution_count": 4,
     "metadata": {},
     "output_type": "execute_result"
    }
   ],
   "source": [
    "True and True"
   ]
  },
  {
   "cell_type": "code",
   "execution_count": 7,
   "id": "7ae5c74a-c9a6-4bec-9b2b-b5b3cd6bee06",
   "metadata": {},
   "outputs": [
    {
     "name": "stdout",
     "output_type": "stream",
     "text": [
      "5\n",
      "4\n",
      "3\n",
      "2\n",
      "1\n"
     ]
    }
   ],
   "source": [
    "count = 5\n",
    "while count > 0:\n",
    "    print (count)\n",
    "    count = count - 1"
   ]
  },
  {
   "cell_type": "code",
   "execution_count": 3,
   "id": "6038acd5-7484-4877-ac19-981eaa55116b",
   "metadata": {},
   "outputs": [
    {
     "name": "stdout",
     "output_type": "stream",
     "text": [
      "PASS\n"
     ]
    }
   ],
   "source": [
    "percentage = 25\n",
    "if percentage >= 25:\n",
    "    print(\"PASS\")\n",
    "else :\n",
    "    print(\"FAIL\")\n",
    "        "
   ]
  },
  {
   "cell_type": "code",
   "execution_count": 9,
   "id": "a2ba1906-ddca-4a9b-be0c-2e212b3ef17c",
   "metadata": {},
   "outputs": [
    {
     "name": "stdout",
     "output_type": "stream",
     "text": [
      "you are senior citizen\n"
     ]
    }
   ],
   "source": [
    "age = 35\n",
    "if age < 18:\n",
    "    print(\"age is minor\")\n",
    "elif 18>=age<= 65:\n",
    "    print(\"you are adults\")\n",
    "else:\n",
    "    print(\"you are senior citizen\")\n",
    "    "
   ]
  },
  {
   "cell_type": "code",
   "execution_count": 1,
   "id": "72dc6cab-b543-40b7-9ef6-9086b6c97e6f",
   "metadata": {},
   "outputs": [
    {
     "name": "stdout",
     "output_type": "stream",
     "text": [
      "p\n",
      "w\n",
      "s\n",
      "k\n",
      "i\n",
      "l\n",
      "l\n"
     ]
    }
   ],
   "source": [
    "a = \"pwskill\"\n",
    "for char in a:\n",
    "    print(char)"
   ]
  },
  {
   "cell_type": "code",
   "execution_count": null,
   "id": "444c6bd7-a548-4a8c-8c7d-01de1e69ca89",
   "metadata": {},
   "outputs": [],
   "source": [
    "#3.What are comments in Python, and why are they useful6 Provide an example"
   ]
  },
  {
   "cell_type": "code",
   "execution_count": 2,
   "id": "933e797d-7ab3-4ba8-ac45-47cd5bc90ef8",
   "metadata": {},
   "outputs": [
    {
     "name": "stdin",
     "output_type": "stream",
     "text": [
      "ankit 12\n"
     ]
    },
    {
     "name": "stdout",
     "output_type": "stream",
     "text": [
      "12\n"
     ]
    }
   ],
   "source": [
    "#ans Python is an open-source, object-oriented, high-level, general purpose programming language. \n",
    "#It has an intuitive syntax that resembles a natural English language and hence is easy to learn, especially for people who are just entering the world of programming\n",
    "#Because of its human-friendly syntax, it's easy to write, read, and debug\n",
    "#It provides an extensive standard library and a wide choice of well-documented and comprehensive additional libraries and modules\n",
    "#t's free both for individuals and businesses\n",
    "#Thanks to its huge supporting community, Python is constantly developed, improved, and expanded\n",
    "#It can be integrated into any project and used for solving advanced problems\n",
    "name = input(\"ankit\")\n",
    "print(name)"
   ]
  },
  {
   "cell_type": "code",
   "execution_count": null,
   "id": "c04a5437-9703-45cc-9dd0-f5034289f410",
   "metadata": {},
   "outputs": [],
   "source": [
    "#2. Describe the rules for defining identifiers in Python and provide an example.\n",
    "# ans \n"
   ]
  },
  {
   "cell_type": "code",
   "execution_count": null,
   "id": "7e99adf1-65eb-4833-8b91-d4e841d815b9",
   "metadata": {},
   "outputs": [],
   "source": []
  },
  {
   "cell_type": "code",
   "execution_count": null,
   "id": "9fa3c912-f1b7-4f4e-a7fd-842a59c56cd5",
   "metadata": {},
   "outputs": [],
   "source": [
    "# 4. Why is proper indentation important in Python\n",
    "# ans : Indentation is a very important concept of Python because without properly indenting the Python code, you will end up seeing IndentationError and the code will not get compiled.\n",
    "Python indentation refers to adding white space before a statement to a particular block of code. In another word, \n",
    "all the statements with the same space to the right, belong to the same code block."
   ]
  },
  {
   "cell_type": "code",
   "execution_count": 1,
   "id": "26ff3db3-d91a-409b-8162-5308746ed9bd",
   "metadata": {},
   "outputs": [
    {
     "name": "stdout",
     "output_type": "stream",
     "text": [
      "Logging to facebook\n"
     ]
    }
   ],
   "source": [
    "site = 'www'\n",
    " \n",
    "if site == 'www':\n",
    "    print('Logging to facebook')\n",
    "else:\n",
    "    print('retype the URL.')\n"
   ]
  },
  {
   "cell_type": "code",
   "execution_count": null,
   "id": "48359b4d-5386-4c5c-9eb7-de27e7adb590",
   "metadata": {},
   "outputs": [],
   "source": [
    "#5.What happens if indentation is incorrect in Python?\n",
    "# ans An error is a mistake or issue that prevents the computer program from being run perfectly, Indentation error is one of those. Indentation error occurs in the compilation phase. An Indentation error is a compile-time error\n",
    "that occurs when tabs or spaces in a code do not follow expected patterns."
   ]
  },
  {
   "cell_type": "code",
   "execution_count": null,
   "id": "8892026d-ed6f-4069-9021-10f957613271",
   "metadata": {},
   "outputs": [],
   "source": [
    "#6.Differentiate 0etween expression and statement in Python with examples"
   ]
  },
  {
   "cell_type": "code",
   "execution_count": null,
   "id": "3d2e4354-fd16-4a83-9034-eea254f5618c",
   "metadata": {},
   "outputs": [],
   "source": [
    "# ans It is used to create a variable or for displaying a variable.\tIt is used to produce the value after being interpreted by the python interpreter.\n",
    "Statements\tExpression\n",
    "\n",
    "It is used to create a variable or for displaying a variable.\t\n",
    "A statement is not evaluated for the results in Python.\t\n",
    "The execution of statement can change the state of a variable.\tA statement can be an expression.\t\n",
    "Example: a=22\n",
    "\n",
    "expression\n",
    "\n",
    "Anexpression is evaluated for the results in Python.\n",
    "It does not allow any change in the result.\n",
    "An expression is not a statement.\n",
    "Example: a= 2+6"
   ]
  }
 ],
 "metadata": {
  "kernelspec": {
   "display_name": "Python 3 (ipykernel)",
   "language": "python",
   "name": "python3"
  },
  "language_info": {
   "codemirror_mode": {
    "name": "ipython",
    "version": 3
   },
   "file_extension": ".py",
   "mimetype": "text/x-python",
   "name": "python",
   "nbconvert_exporter": "python",
   "pygments_lexer": "ipython3",
   "version": "3.10.8"
  }
 },
 "nbformat": 4,
 "nbformat_minor": 5
}
