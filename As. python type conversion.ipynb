{
 "cells": [
  {
   "cell_type": "code",
   "execution_count": 1,
   "id": "65f01a31-1940-42da-a1d5-77ae5bf21a08",
   "metadata": {},
   "outputs": [],
   "source": [
    "#1.convert intergers into floating point number\n",
    "\n",
    "b = 65\n",
    "a = int(b)\n"
   ]
  },
  {
   "cell_type": "code",
   "execution_count": 2,
   "id": "ebc146e7-04f9-4946-8bb7-7551ab3a2fd0",
   "metadata": {},
   "outputs": [
    {
     "data": {
      "text/plain": [
       "int"
      ]
     },
     "execution_count": 2,
     "metadata": {},
     "output_type": "execute_result"
    }
   ],
   "source": [
    "type(b)"
   ]
  },
  {
   "cell_type": "code",
   "execution_count": 1,
   "id": "14132701-4f3a-4da9-8ddd-43be5adbbecf",
   "metadata": {},
   "outputs": [],
   "source": [
    "b = 65.5\n",
    "c = float(b)"
   ]
  },
  {
   "cell_type": "code",
   "execution_count": 2,
   "id": "bad0ef99-f5b5-4e40-8fcf-4f850a497b39",
   "metadata": {},
   "outputs": [
    {
     "data": {
      "text/plain": [
       "65.5"
      ]
     },
     "execution_count": 2,
     "metadata": {},
     "output_type": "execute_result"
    }
   ],
   "source": [
    "c"
   ]
  },
  {
   "cell_type": "code",
   "execution_count": 7,
   "id": "a77f869b-922d-4a00-8906-c4aaa756efa9",
   "metadata": {},
   "outputs": [],
   "source": [
    "#2. convert float into integers\n",
    "c = 65.5\n",
    "b = int(c)"
   ]
  },
  {
   "cell_type": "code",
   "execution_count": 8,
   "id": "ed29c424-b754-4362-aca5-255c13f40e14",
   "metadata": {},
   "outputs": [
    {
     "data": {
      "text/plain": [
       "65.5"
      ]
     },
     "execution_count": 8,
     "metadata": {},
     "output_type": "execute_result"
    }
   ],
   "source": [
    "c"
   ]
  },
  {
   "cell_type": "code",
   "execution_count": 9,
   "id": "63ce94e9-dd24-4094-bc2f-f8a452fd103e",
   "metadata": {},
   "outputs": [],
   "source": [
    "b = 65"
   ]
  },
  {
   "cell_type": "code",
   "execution_count": 11,
   "id": "717d20ce-c898-4a5c-a1df-3b166a436a3e",
   "metadata": {},
   "outputs": [
    {
     "data": {
      "text/plain": [
       "int"
      ]
     },
     "execution_count": 11,
     "metadata": {},
     "output_type": "execute_result"
    }
   ],
   "source": [
    "type(b)"
   ]
  },
  {
   "cell_type": "code",
   "execution_count": 12,
   "id": "2a28b041-d5d5-4a09-8a24-5e7a8953128e",
   "metadata": {},
   "outputs": [
    {
     "data": {
      "text/plain": [
       "65"
      ]
     },
     "execution_count": 12,
     "metadata": {},
     "output_type": "execute_result"
    }
   ],
   "source": [
    "b"
   ]
  },
  {
   "cell_type": "code",
   "execution_count": 9,
   "id": "81770bbf-c311-4638-980a-dc7e9efac9b1",
   "metadata": {},
   "outputs": [],
   "source": [
    "#3.convert intergers to string\n",
    "\n"
   ]
  },
  {
   "cell_type": "code",
   "execution_count": 11,
   "id": "febc7968-9c2c-4021-98ca-379a3f12584f",
   "metadata": {},
   "outputs": [],
   "source": [
    "s = 121"
   ]
  },
  {
   "cell_type": "code",
   "execution_count": 12,
   "id": "4d280e7c-3397-4f9e-822c-da56be9a1132",
   "metadata": {},
   "outputs": [
    {
     "data": {
      "text/plain": [
       "int"
      ]
     },
     "execution_count": 12,
     "metadata": {},
     "output_type": "execute_result"
    }
   ],
   "source": [
    "type(s)"
   ]
  },
  {
   "cell_type": "code",
   "execution_count": 13,
   "id": "f38aebd1-3d8f-4239-8238-1263ddc68dd6",
   "metadata": {},
   "outputs": [],
   "source": [
    "s = \"121\""
   ]
  },
  {
   "cell_type": "code",
   "execution_count": 14,
   "id": "ba451451-2be6-472f-bf65-082216576988",
   "metadata": {},
   "outputs": [
    {
     "data": {
      "text/plain": [
       "str"
      ]
     },
     "execution_count": 14,
     "metadata": {},
     "output_type": "execute_result"
    }
   ],
   "source": [
    "type(s)"
   ]
  },
  {
   "cell_type": "code",
   "execution_count": 5,
   "id": "30da9a8a-7b38-4da2-8ef2-21a8e04fa11a",
   "metadata": {},
   "outputs": [
    {
     "name": "stdout",
     "output_type": "stream",
     "text": [
      "(1, 20, 35, 35)\n"
     ]
    }
   ],
   "source": [
    "#4. convert list to a touple\n",
    "list = [1,20,35,35,]\n",
    "tup=tuple(list)\n",
    "print(tup)\n"
   ]
  },
  {
   "cell_type": "code",
   "execution_count": 13,
   "id": "7d740ae3-d24f-4fa1-83fd-3d74b6fd21fd",
   "metadata": {},
   "outputs": [
    {
     "name": "stdout",
     "output_type": "stream",
     "text": [
      "(1, 2, 3, 4)\n"
     ]
    }
   ],
   "source": [
    "#tuople>>>listt\n",
    "tup = (1,2,3,4)\n",
    "tup = list\n",
    "pr\n",
    "\n",
    "\n",
    "\n"
   ]
  },
  {
   "cell_type": "code",
   "execution_count": 5,
   "id": "d0443d28-8366-4ea7-89b4-e6d2608ccba1",
   "metadata": {},
   "outputs": [],
   "source": [
    "#5.conver decimal into binary\n"
   ]
  },
  {
   "cell_type": "code",
   "execution_count": 3,
   "id": "1176a90f-f1e9-48db-b337-185dc52f722c",
   "metadata": {},
   "outputs": [
    {
     "data": {
      "text/plain": [
       "'0b1010'"
      ]
     },
     "execution_count": 3,
     "metadata": {},
     "output_type": "execute_result"
    }
   ],
   "source": [
    "bin(10)"
   ]
  },
  {
   "cell_type": "code",
   "execution_count": 4,
   "id": "6ebafe26-7009-4a7a-90d4-23b3fae68a72",
   "metadata": {},
   "outputs": [
    {
     "data": {
      "text/plain": [
       "10"
      ]
     },
     "execution_count": 4,
     "metadata": {},
     "output_type": "execute_result"
    }
   ],
   "source": [
    "0b1010"
   ]
  },
  {
   "cell_type": "code",
   "execution_count": 5,
   "id": "f5dd084d-186e-4e27-8e25-2289665d69b0",
   "metadata": {},
   "outputs": [
    {
     "name": "stdout",
     "output_type": "stream",
     "text": [
      "True\n"
     ]
    }
   ],
   "source": [
    "#6. non.....boolean\n",
    "print(not 0)\n"
   ]
  },
  {
   "cell_type": "code",
   "execution_count": 3,
   "id": "accfbdc9-35e1-4837-8b4c-b8ace76c8017",
   "metadata": {},
   "outputs": [
    {
     "name": "stdout",
     "output_type": "stream",
     "text": [
      "greater\n"
     ]
    }
   ],
   "source": [
    "if 2 > 1:\n",
    "    print(\"greater\")"
   ]
  }
 ],
 "metadata": {
  "kernelspec": {
   "display_name": "Python 3 (ipykernel)",
   "language": "python",
   "name": "python3"
  },
  "language_info": {
   "codemirror_mode": {
    "name": "ipython",
    "version": 3
   },
   "file_extension": ".py",
   "mimetype": "text/x-python",
   "name": "python",
   "nbconvert_exporter": "python",
   "pygments_lexer": "ipython3",
   "version": "3.10.8"
  }
 },
 "nbformat": 4,
 "nbformat_minor": 5
}
